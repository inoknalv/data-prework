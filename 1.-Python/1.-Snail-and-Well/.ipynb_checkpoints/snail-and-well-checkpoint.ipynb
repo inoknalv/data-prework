{
 "cells": [
  {
   "cell_type": "markdown",
   "metadata": {},
   "source": [
    "<img src=\"https://bit.ly/2VnXWr2\" width=\"100\" align=\"left\">"
   ]
  },
  {
   "cell_type": "markdown",
   "metadata": {},
   "source": [
    "# The Snail and the Well\n",
    "\n",
    "A snail falls at the bottom of a 125 cm well. Each day the snail rises 30 cm. But at night, while sleeping, slides 20 cm because the walls are wet. How many days does it take for the snail to escape the well?\n",
    "\n",
    "**Hint**: The snail gets out of the well when it surpasses the 125cm of height.\n",
    "\n",
    "## Tools\n",
    "\n",
    "1. Loop: **while**\n",
    "2. Conditional statements: **if-else**\n",
    "3. Function: **print()**\n",
    "\n",
    "## Tasks\n",
    "\n",
    "#### 1. Assign the challenge data to variables with representative names: `well_height`, `daily_distance`, `nightly_distance` and `snail_position`."
   ]
  },
  {
   "cell_type": "code",
   "execution_count": 2,
   "metadata": {},
   "outputs": [],
   "source": [
    "well_height = 125\n",
    "daily_distance = 30\n",
    "nightly_distance = 20\n",
    "snail_position = 0"
   ]
  },
  {
   "cell_type": "markdown",
   "metadata": {},
   "source": [
    "#### 2. Create a variable `days` to keep count of the days that pass until the snail escapes the well. "
   ]
  },
  {
   "cell_type": "code",
   "execution_count": 3,
   "metadata": {},
   "outputs": [],
   "source": [
    "days = 0"
   ]
  },
  {
   "cell_type": "markdown",
   "metadata": {},
   "source": [
    "#### 3. Find the solution to the challenge using the variables defined above. "
   ]
  },
  {
   "cell_type": "code",
   "execution_count": 4,
   "metadata": {},
   "outputs": [],
   "source": [
    "while snail_position <= well_height:\n",
    "    snail_position += daily_distance\n",
    "    days += 1\n",
    "    if snail_position <= well_height:\n",
    "        snail_position -= nightly_distance"
   ]
  },
  {
   "cell_type": "markdown",
   "metadata": {},
   "source": [
    "#### 4. Print the solution."
   ]
  },
  {
   "cell_type": "code",
   "execution_count": 5,
   "metadata": {},
   "outputs": [
    {
     "name": "stdout",
     "output_type": "stream",
     "text": [
      "11\n"
     ]
    }
   ],
   "source": [
    "print(int(days))"
   ]
  },
  {
   "cell_type": "markdown",
   "metadata": {},
   "source": [
    "## Bonus\n",
    "The distance traveled by the snail each day is now defined by a list.\n",
    "```\n",
    "advance_cm = [30, 21, 33, 77, 44, 45, 23, 45, 12, 34, 55]\n",
    "```\n",
    "On the first day, the snail rises 30cm but during the night it slides 20cm. On the second day, the snail rises 21cm but during the night it slides 20cm, and so on. \n",
    "\n",
    "#### 1. How many days does it take for the snail to escape the well?\n",
    "Follow the same guidelines as in the previous challenge.\n",
    "\n",
    "**Hint**: Remember that the snail gets out of the well when it surpasses the 125cm of height."
   ]
  },
  {
   "cell_type": "code",
   "execution_count": 6,
   "metadata": {},
   "outputs": [
    {
     "name": "stdout",
     "output_type": "stream",
     "text": [
      "6\n"
     ]
    }
   ],
   "source": [
    "well_height = 125\n",
    "advance_cm = [30, 21, 33, 77, 44, 45, 23, 45, 12, 34, 55]\n",
    "nightly_distance = 20\n",
    "snail_position = 0\n",
    "days2 = 0\n",
    "\n",
    "while snail_position <= well_height:\n",
    "    for dist in advance_cm:\n",
    "        snail_position += dist\n",
    "        days2 += 1\n",
    "        if snail_position <= well_height:\n",
    "            snail_position -= nightly_distance\n",
    "        elif snail_position > well_height:\n",
    "            break\n",
    "\n",
    "print(int(days2))"
   ]
  },
  {
   "cell_type": "markdown",
   "metadata": {},
   "source": [
    "#### 2. What is its maximum displacement in one day? And its minimum? Calculate the displacement using only the travel distance of the days used to get out of the well. \n",
    "**Hint**: Remember that displacement means the total distance risen taking into account that the snail slides at night.  "
   ]
  },
  {
   "cell_type": "code",
   "execution_count": 7,
   "metadata": {},
   "outputs": [
    {
     "name": "stdout",
     "output_type": "stream",
     "text": [
      "Maximum displacement is  57\n",
      "Minimum displacement is  1\n"
     ]
    }
   ],
   "source": [
    "well_height = 125\n",
    "advance_cm = [30, 21, 33, 77, 44, 45, 23, 45, 12, 34, 55]\n",
    "nightly_distance = 20\n",
    "snail_position = 0\n",
    "days2 = 0\n",
    "\n",
    "while snail_position <= well_height:\n",
    "    for dist in advance_cm:\n",
    "        snail_position += dist\n",
    "        days2 += 1\n",
    "        if snail_position <= well_height:\n",
    "            snail_position -= nightly_distance\n",
    "        elif snail_position > well_height:\n",
    "            break\n",
    "\n",
    "rises = []\n",
    "for day in range(0, days2):\n",
    "    rise = 0\n",
    "    rise += advance_cm[day]\n",
    "    if day < 5:\n",
    "        rise -= nightly_distance\n",
    "    rises.append(rise)\n",
    "\n",
    "rises.sort()\n",
    "minimum_displacement = min(rises)\n",
    "maximum_displacement = max(rises)\n",
    "print(\"Maximum displacement is \", int(maximum_displacement))\n",
    "print(\"Minimum displacement is \", int(minimum_displacement))"
   ]
  },
  {
   "cell_type": "markdown",
   "metadata": {},
   "source": [
    "#### 3. What is its average progress? Take into account the snail slides at night."
   ]
  },
  {
   "cell_type": "code",
   "execution_count": 8,
   "metadata": {},
   "outputs": [
    {
     "name": "stdout",
     "output_type": "stream",
     "text": [
      "25.0\n"
     ]
    }
   ],
   "source": [
    "rises = []\n",
    "advance_cm = [30, 21, 33, 77, 44, 45, 23, 45, 12, 34, 55]\n",
    "nightly_distance = 20\n",
    "for day in range(0, days2):\n",
    "    rise = 0\n",
    "    rise += advance_cm[day]\n",
    "    if day < 5:\n",
    "        rise -= nightly_distance\n",
    "    rises.append(rise)\n",
    "average_progress = sum(rises)/len(rises)\n",
    "print(average_progress)"
   ]
  },
  {
   "cell_type": "markdown",
   "metadata": {},
   "source": [
    "#### 4. What is the standard deviation of its displacement? Take into account the snail slides at night."
   ]
  },
  {
   "cell_type": "code",
   "execution_count": 9,
   "metadata": {},
   "outputs": [
    {
     "name": "stdout",
     "output_type": "stream",
     "text": [
      "19.87460691435179\n"
     ]
    }
   ],
   "source": [
    "import math\n",
    "\n",
    "numerator = 0\n",
    "denominator = len(rises)\n",
    "for rise in rises:\n",
    "    numerator += (rise - average_progress)**2\n",
    "std_deviation = math.sqrt(numerator/denominator)\n",
    "print(std_deviation)"
   ]
  }
 ],
 "metadata": {
  "kernelspec": {
   "display_name": "Python 3",
   "language": "python",
   "name": "python3"
  },
  "language_info": {
   "codemirror_mode": {
    "name": "ipython",
    "version": 3
   },
   "file_extension": ".py",
   "mimetype": "text/x-python",
   "name": "python",
   "nbconvert_exporter": "python",
   "pygments_lexer": "ipython3",
   "version": "3.7.4"
  }
 },
 "nbformat": 4,
 "nbformat_minor": 2
}
