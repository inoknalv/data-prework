{
 "cells": [
  {
   "cell_type": "markdown",
   "metadata": {},
   "source": [
    "<img src=\"https://bit.ly/2VnXWr2\" width=\"100\" align=\"left\">"
   ]
  },
  {
   "cell_type": "markdown",
   "metadata": {},
   "source": [
    "# Rock, Paper & Scissors\n",
    "\n",
    "Let's play the famous game against our computer. You can check the rules [here](https://en.wikipedia.org/wiki/Rock%E2%80%93paper%E2%80%93scissors). \n",
    "\n",
    "## Task\n",
    "Create a program that imitates the playability of the well known game of rock, paper, scissors. Follow the guidelines provided.\n",
    "\n",
    "## Tools\n",
    "1. Loop: **for/while**\n",
    "2. Functions: **input(), print()...**\n",
    "3. Conditional statements: **if, elif, else**\n",
    "4. Definition of functions. Modular programming\n",
    "5. Import modules\n",
    "\n",
    "**To solve this challenge, the use of functions is recommended.**\n",
    "\n",
    "#### 1. Import the choice function of the random module."
   ]
  },
  {
   "cell_type": "code",
   "execution_count": 78,
   "metadata": {},
   "outputs": [],
   "source": [
    "import random"
   ]
  },
  {
   "cell_type": "markdown",
   "metadata": {},
   "source": [
    "#### 2. Create a list that includes the 3 possible gesture options of the game: 'rock', 'paper' or 'scissors'. Store the list in a variable called `gestures`."
   ]
  },
  {
   "cell_type": "code",
   "execution_count": 79,
   "metadata": {},
   "outputs": [],
   "source": [
    "gestures = ['rock', 'paper', 'scissors']"
   ]
  },
  {
   "cell_type": "markdown",
   "metadata": {},
   "source": [
    "#### 3. Create a variable called `n_rounds` to store the maximum number of rounds to play in a game. \n",
    "Remember that the number of rounds must be odd: 1, 3, 5, ..."
   ]
  },
  {
   "cell_type": "code",
   "execution_count": 80,
   "metadata": {},
   "outputs": [],
   "source": [
    "n_rounds = 3"
   ]
  },
  {
   "cell_type": "markdown",
   "metadata": {},
   "source": [
    "#### 4. Create a variable called `rounds_to_win` to store the number of rounds that a player must win to win the game.\n",
    "**Hint**: the value stored in `rounds_to_win` depends on the value of `n_rounds`. "
   ]
  },
  {
   "cell_type": "code",
   "execution_count": 81,
   "metadata": {},
   "outputs": [],
   "source": [
    "rounds_to_win = 2"
   ]
  },
  {
   "cell_type": "markdown",
   "metadata": {},
   "source": [
    "#### 5. Create two variables to store the number of rounds that the computer and the player have won. Call these variables `cpu_score` and `player_score`."
   ]
  },
  {
   "cell_type": "code",
   "execution_count": 82,
   "metadata": {},
   "outputs": [],
   "source": [
    "cpu_score = 0\n",
    "player_score = 0"
   ]
  },
  {
   "cell_type": "markdown",
   "metadata": {},
   "source": [
    "#### 6. Define a function that randomly returns one of the 3 gesture options.\n",
    "You will use this function to simulate the gesture choice of the computer. "
   ]
  },
  {
   "cell_type": "code",
   "execution_count": 83,
   "metadata": {},
   "outputs": [],
   "source": [
    "def cpu_choice():\n",
    "    choice = random.choice(gestures)\n",
    "    return choice"
   ]
  },
  {
   "cell_type": "markdown",
   "metadata": {},
   "source": [
    "#### 7. Define a function that asks the player which is the gesture he or she wants to show: 'rock', 'paper' or 'scissors'.\n",
    "The player should only be allowed to choose one of the 3 gesture options. If the player's choice is not rock, paper or scissors, keep asking until it is."
   ]
  },
  {
   "cell_type": "code",
   "execution_count": 84,
   "metadata": {},
   "outputs": [],
   "source": [
    "def input_choice():\n",
    "    gesture = input('Please choose a gesture to beat the computer: ')\n",
    "    if (gesture.lower() in gestures):\n",
    "        return gesture\n",
    "    else:\n",
    "        print(\"Only three available answers: rock, paper or scissors\")\n",
    "        return input_choice()"
   ]
  },
  {
   "cell_type": "markdown",
   "metadata": {},
   "source": [
    "#### 8. Define a function that checks who won a round. \n",
    "The function should return 0 if there is a tie, 1 if the computer wins and 2 if the player wins."
   ]
  },
  {
   "cell_type": "code",
   "execution_count": 85,
   "metadata": {},
   "outputs": [],
   "source": [
    "def who_won(player, cpu):\n",
    "    if (player == cpu):\n",
    "        return 0\n",
    "    elif ((player == 'rock' and cpu == 'scissors') or (player == 'scissors' and cpu == 'paper') or (player == 'paper' and cpu == 'rock')):\n",
    "        return 2\n",
    "    else:\n",
    "        return 1 "
   ]
  },
  {
   "cell_type": "markdown",
   "metadata": {},
   "source": [
    "#### 9. Define a function that prints the choice of the computer, the choice of the player and a message that announces who won the current round. \n",
    "You should also use this function to update the variables that count the number of rounds that the computer and the player have won. The score of the winner increases by one point. If there is a tie, the score does not increase."
   ]
  },
  {
   "cell_type": "code",
   "execution_count": 86,
   "metadata": {},
   "outputs": [],
   "source": [
    "def print_msg_round(player, cpu, result):\n",
    "    global cpu_score\n",
    "    global player_score\n",
    "    print(\"The computer's choice is %s\" %(cpu))\n",
    "    print(\"The player's choice is %s\" %(player))\n",
    "    \n",
    "    if (result == 0):\n",
    "        print(\"It's a tie! Please play again!\")\n",
    "    elif (result == 1):\n",
    "        print(\"Computer wins!\")\n",
    "        cpu_score = cpu_score + 1\n",
    "    elif (result == 2):\n",
    "        print(\"Player wins!\")\n",
    "        player_score = player_score + 1"
   ]
  },
  {
   "cell_type": "markdown",
   "metadata": {},
   "source": [
    "#### 10. Now it's time to code the execution of the game using the functions and variables you defined above. \n",
    "\n",
    "First, create a loop structure that repeats while no player reaches the minimum score necessary to win and the number of rounds is less than the maximum number of rounds to play in a game.  \n",
    "\n",
    "Inside the loop, use the functions and variables above to create the execution of a round: ask for the player's choice, generate the random choice of the computer, show the round results, update the scores, etc. "
   ]
  },
  {
   "cell_type": "code",
   "execution_count": 87,
   "metadata": {},
   "outputs": [
    {
     "ename": "KeyboardInterrupt",
     "evalue": "Interrupted by user",
     "output_type": "error",
     "traceback": [
      "\u001b[0;31m---------------------------------------------------------------------------\u001b[0m",
      "\u001b[0;31mKeyboardInterrupt\u001b[0m                         Traceback (most recent call last)",
      "\u001b[0;32m<ipython-input-87-e409bb6d3102>\u001b[0m in \u001b[0;36m<module>\u001b[0;34m\u001b[0m\n\u001b[1;32m      1\u001b[0m \u001b[0;32mwhile\u001b[0m \u001b[0;34m(\u001b[0m\u001b[0;34m(\u001b[0m\u001b[0mcpu_score\u001b[0m \u001b[0;34m<\u001b[0m \u001b[0mrounds_to_win\u001b[0m\u001b[0;34m)\u001b[0m \u001b[0;32mand\u001b[0m \u001b[0;34m(\u001b[0m\u001b[0mplayer_score\u001b[0m \u001b[0;34m<\u001b[0m \u001b[0mrounds_to_win\u001b[0m\u001b[0;34m)\u001b[0m \u001b[0;32mand\u001b[0m \u001b[0;34m(\u001b[0m\u001b[0mcpu_score\u001b[0m \u001b[0;34m+\u001b[0m \u001b[0mplayer_score\u001b[0m \u001b[0;34m<\u001b[0m \u001b[0mn_rounds\u001b[0m\u001b[0;34m)\u001b[0m\u001b[0;34m)\u001b[0m\u001b[0;34m:\u001b[0m\u001b[0;34m\u001b[0m\u001b[0;34m\u001b[0m\u001b[0m\n\u001b[1;32m      2\u001b[0m     \u001b[0mcpu_gesture\u001b[0m \u001b[0;34m=\u001b[0m \u001b[0mcpu_choice\u001b[0m\u001b[0;34m(\u001b[0m\u001b[0;34m)\u001b[0m\u001b[0;34m\u001b[0m\u001b[0;34m\u001b[0m\u001b[0m\n\u001b[0;32m----> 3\u001b[0;31m     \u001b[0mplayer_gesture\u001b[0m \u001b[0;34m=\u001b[0m \u001b[0minput_choice\u001b[0m\u001b[0;34m(\u001b[0m\u001b[0;34m)\u001b[0m\u001b[0;34m\u001b[0m\u001b[0;34m\u001b[0m\u001b[0m\n\u001b[0m\u001b[1;32m      4\u001b[0m     \u001b[0mresult\u001b[0m \u001b[0;34m=\u001b[0m \u001b[0mwho_won\u001b[0m\u001b[0;34m(\u001b[0m\u001b[0mplayer_gesture\u001b[0m\u001b[0;34m,\u001b[0m \u001b[0mcpu_gesture\u001b[0m\u001b[0;34m)\u001b[0m\u001b[0;34m\u001b[0m\u001b[0;34m\u001b[0m\u001b[0m\n\u001b[1;32m      5\u001b[0m     \u001b[0mprint_msg_round\u001b[0m\u001b[0;34m(\u001b[0m\u001b[0mplayer_gesture\u001b[0m\u001b[0;34m,\u001b[0m \u001b[0mcpu_gesture\u001b[0m\u001b[0;34m,\u001b[0m \u001b[0mresult\u001b[0m\u001b[0;34m)\u001b[0m\u001b[0;34m\u001b[0m\u001b[0;34m\u001b[0m\u001b[0m\n",
      "\u001b[0;32m<ipython-input-84-ad21619c1ddd>\u001b[0m in \u001b[0;36minput_choice\u001b[0;34m()\u001b[0m\n\u001b[1;32m      1\u001b[0m \u001b[0;32mdef\u001b[0m \u001b[0minput_choice\u001b[0m\u001b[0;34m(\u001b[0m\u001b[0;34m)\u001b[0m\u001b[0;34m:\u001b[0m\u001b[0;34m\u001b[0m\u001b[0;34m\u001b[0m\u001b[0m\n\u001b[0;32m----> 2\u001b[0;31m     \u001b[0mgesture\u001b[0m \u001b[0;34m=\u001b[0m \u001b[0minput\u001b[0m\u001b[0;34m(\u001b[0m\u001b[0;34m'Please choose a gesture to beat the computer: '\u001b[0m\u001b[0;34m)\u001b[0m\u001b[0;34m\u001b[0m\u001b[0;34m\u001b[0m\u001b[0m\n\u001b[0m\u001b[1;32m      3\u001b[0m     \u001b[0;32mif\u001b[0m \u001b[0;34m(\u001b[0m\u001b[0mgesture\u001b[0m\u001b[0;34m.\u001b[0m\u001b[0mlower\u001b[0m\u001b[0;34m(\u001b[0m\u001b[0;34m)\u001b[0m \u001b[0;32min\u001b[0m \u001b[0mgestures\u001b[0m\u001b[0;34m)\u001b[0m\u001b[0;34m:\u001b[0m\u001b[0;34m\u001b[0m\u001b[0;34m\u001b[0m\u001b[0m\n\u001b[1;32m      4\u001b[0m         \u001b[0;32mreturn\u001b[0m \u001b[0mgesture\u001b[0m\u001b[0;34m\u001b[0m\u001b[0;34m\u001b[0m\u001b[0m\n\u001b[1;32m      5\u001b[0m     \u001b[0;32melse\u001b[0m\u001b[0;34m:\u001b[0m\u001b[0;34m\u001b[0m\u001b[0;34m\u001b[0m\u001b[0m\n",
      "\u001b[0;32m/usr/local/Cellar/jupyterlab/2.1.2/libexec/lib/python3.8/site-packages/ipykernel/kernelbase.py\u001b[0m in \u001b[0;36mraw_input\u001b[0;34m(self, prompt)\u001b[0m\n\u001b[1;32m    858\u001b[0m                 \u001b[0;34m\"raw_input was called, but this frontend does not support input requests.\"\u001b[0m\u001b[0;34m\u001b[0m\u001b[0;34m\u001b[0m\u001b[0m\n\u001b[1;32m    859\u001b[0m             )\n\u001b[0;32m--> 860\u001b[0;31m         return self._input_request(str(prompt),\n\u001b[0m\u001b[1;32m    861\u001b[0m             \u001b[0mself\u001b[0m\u001b[0;34m.\u001b[0m\u001b[0m_parent_ident\u001b[0m\u001b[0;34m,\u001b[0m\u001b[0;34m\u001b[0m\u001b[0;34m\u001b[0m\u001b[0m\n\u001b[1;32m    862\u001b[0m             \u001b[0mself\u001b[0m\u001b[0;34m.\u001b[0m\u001b[0m_parent_header\u001b[0m\u001b[0;34m,\u001b[0m\u001b[0;34m\u001b[0m\u001b[0;34m\u001b[0m\u001b[0m\n",
      "\u001b[0;32m/usr/local/Cellar/jupyterlab/2.1.2/libexec/lib/python3.8/site-packages/ipykernel/kernelbase.py\u001b[0m in \u001b[0;36m_input_request\u001b[0;34m(self, prompt, ident, parent, password)\u001b[0m\n\u001b[1;32m    891\u001b[0m             \u001b[0;32mexcept\u001b[0m \u001b[0mKeyboardInterrupt\u001b[0m\u001b[0;34m:\u001b[0m\u001b[0;34m\u001b[0m\u001b[0;34m\u001b[0m\u001b[0m\n\u001b[1;32m    892\u001b[0m                 \u001b[0;31m# re-raise KeyboardInterrupt, to truncate traceback\u001b[0m\u001b[0;34m\u001b[0m\u001b[0;34m\u001b[0m\u001b[0;34m\u001b[0m\u001b[0m\n\u001b[0;32m--> 893\u001b[0;31m                 \u001b[0;32mraise\u001b[0m \u001b[0mKeyboardInterrupt\u001b[0m\u001b[0;34m(\u001b[0m\u001b[0;34m\"Interrupted by user\"\u001b[0m\u001b[0;34m)\u001b[0m \u001b[0;32mfrom\u001b[0m \u001b[0;32mNone\u001b[0m\u001b[0;34m\u001b[0m\u001b[0;34m\u001b[0m\u001b[0m\n\u001b[0m\u001b[1;32m    894\u001b[0m             \u001b[0;32melse\u001b[0m\u001b[0;34m:\u001b[0m\u001b[0;34m\u001b[0m\u001b[0;34m\u001b[0m\u001b[0m\n\u001b[1;32m    895\u001b[0m                 \u001b[0;32mbreak\u001b[0m\u001b[0;34m\u001b[0m\u001b[0;34m\u001b[0m\u001b[0m\n",
      "\u001b[0;31mKeyboardInterrupt\u001b[0m: Interrupted by user"
     ]
    }
   ],
   "source": [
    "while ((cpu_score < rounds_to_win) and (player_score < rounds_to_win) and (cpu_score + player_score < n_rounds)):\n",
    "    cpu_gesture = cpu_choice()\n",
    "    player_gesture = input_choice()\n",
    "    result = who_won(player_gesture, cpu_gesture)\n",
    "    print_msg_round(player_gesture, cpu_gesture, result)\n",
    "    print(f\"Scoreboard: Computer {cpu_score}, Player {player_score}\")"
   ]
  },
  {
   "cell_type": "markdown",
   "metadata": {},
   "source": [
    "#### 11. Print the winner of the game based on who won more rounds.\n",
    "Remember that the game might be tied. "
   ]
  },
  {
   "cell_type": "code",
   "execution_count": null,
   "metadata": {},
   "outputs": [],
   "source": [
    "if (cpu_score == rounds_to_win):\n",
    "    print(\"The time of the AI has come, Computer crushed you!\")\n",
    "elif (player_score == rounds_to_win):\n",
    "    print(\"Here I come, Deep Blue! Player won!\")"
   ]
  },
  {
   "cell_type": "markdown",
   "metadata": {},
   "source": [
    "# Bonus: Rock, Paper, Scissors, Lizard & Spock\n",
    "![](images/rpsls.jpg)\n",
    "\n",
    "In this challenge, you need to improve the previous game by adding two new options. To know more about the rules of the improved version of rock, paper, scissors, check this [link](http://www.samkass.com/theories/RPSSL.html). \n",
    "\n",
    "In addition, you will also need to improve how the game interacts with the player: the number of rounds to play, which must be an odd number, will be requested to the user until a valid number is entered. Define a new function to make that request.\n",
    "\n",
    "**Hint**: Try to reuse the code that you already coded in the previous challenge. If your code is efficient, this bonus will only consist of simple modifications to the original game."
   ]
  },
  {
   "cell_type": "code",
   "execution_count": 89,
   "metadata": {},
   "outputs": [
    {
     "name": "stdout",
     "output_type": "stream",
     "text": [
      "Please choose a number of rounds to play, which should be an odd number :7\n",
      "Please choose a gesture to beat the computer: lizard\n",
      "The computer's choice is paper\n",
      "The player's choice is lizard\n",
      "Player wins!\n",
      "After Round 1:\n",
      " Scoreboard: Computer 0, Player 1\n",
      "Please choose a gesture to beat the computer: spock\n",
      "The computer's choice is paper\n",
      "The player's choice is spock\n",
      "Computer wins!\n",
      "After Round 2:\n",
      " Scoreboard: Computer 1, Player 1\n",
      "Please choose a gesture to beat the computer: lizard\n",
      "The computer's choice is paper\n",
      "The player's choice is lizard\n",
      "Player wins!\n",
      "After Round 3:\n",
      " Scoreboard: Computer 1, Player 2\n",
      "Please choose a gesture to beat the computer: rock\n",
      "The computer's choice is rock\n",
      "The player's choice is rock\n",
      "It's a tie! Please play again!\n",
      "After Round 4:\n",
      " Scoreboard: Computer 1, Player 2\n",
      "Please choose a gesture to beat the computer: paper\n",
      "The computer's choice is scissors\n",
      "The player's choice is paper\n",
      "Computer wins!\n",
      "After Round 5:\n",
      " Scoreboard: Computer 2, Player 2\n",
      "Please choose a gesture to beat the computer: paper\n",
      "The computer's choice is spock\n",
      "The player's choice is paper\n",
      "Player wins!\n",
      "After Round 6:\n",
      " Scoreboard: Computer 2, Player 3\n",
      "Please choose a gesture to beat the computer: lizard\n",
      "The computer's choice is rock\n",
      "The player's choice is lizard\n",
      "Computer wins!\n",
      "After Round 7:\n",
      " Scoreboard: Computer 3, Player 3\n",
      "You are both smart\n"
     ]
    }
   ],
   "source": [
    "gestures = ['rock', 'paper', 'scissors', 'lizard', 'spock']\n",
    "\n",
    "def number_of_rounds():\n",
    "    rounds = input('Please choose a number of rounds to play, which should be an odd number :')\n",
    "    if (int(rounds) and int(rounds) % 2 == 1):\n",
    "        return int(rounds)\n",
    "    else:\n",
    "        print('The number of rounds must be an odd integer')\n",
    "        return number_of_rounds()\n",
    "\n",
    "def cpu_choice():\n",
    "    choice = random.choice(gestures)\n",
    "    return choice\n",
    "\n",
    "def input_choice():\n",
    "    gesture = input('Please choose a gesture to beat the computer: ')\n",
    "    if (gesture.lower() in gestures):\n",
    "        return gesture\n",
    "    else:\n",
    "        print(\"Only five available answers: rock, paper, scissors, lizard or spock\")\n",
    "        return input_choice()\n",
    "\n",
    "def who_won(player, cpu):\n",
    "    if (player == cpu):\n",
    "        return 0\n",
    "    elif ((player == 'rock' and cpu == 'scissors') or \n",
    "        (player == 'scissors' and cpu == 'paper') or \n",
    "        (player == 'paper' and cpu == 'rock') or \n",
    "        (player == 'lizard' and cpu == 'spock') or \n",
    "        (player == 'spock' and cpu == 'rock') or\n",
    "        (player == 'rock' and cpu == 'lizard') or\n",
    "        (player == 'lizard' and cpu == 'paper') or\n",
    "        (player == 'paper' and cpu == 'spock') or\n",
    "        (player == 'spock' and cpu == 'scissors') or \n",
    "        (player == 'scissors' and cpu == 'lizard')):\n",
    "        return 2\n",
    "    else:\n",
    "        return 1\n",
    "\n",
    "def print_msg_round(player, cpu, result):\n",
    "    global cpu_score\n",
    "    global player_score\n",
    "    print(\"The computer's choice is %s\" %(cpu))\n",
    "    print(\"The player's choice is %s\" %(player))\n",
    "    \n",
    "    if (result == 0):\n",
    "        print(\"It's a tie! Please play again!\")\n",
    "    elif (result == 1):\n",
    "        print(\"Computer wins!\")\n",
    "        cpu_score = cpu_score + 1\n",
    "    elif (result == 2):\n",
    "        print(\"Player wins!\")\n",
    "        player_score = player_score + 1\n",
    "\n",
    "\n",
    "cpu_score = 0\n",
    "player_score = 0\n",
    "rounds_to_play = number_of_rounds()\n",
    "rounds_played = 0\n",
    "\n",
    "while (rounds_played < rounds_to_play):\n",
    "    cpu_gesture = cpu_choice()\n",
    "    player_gesture = input_choice()\n",
    "    result = who_won(player_gesture, cpu_gesture)\n",
    "    print_msg_round(player_gesture, cpu_gesture, result)\n",
    "    rounds_played += 1\n",
    "    print(f\"After Round {rounds_played}:\\n Scoreboard: Computer {cpu_score}, Player {player_score}\")\n",
    "\n",
    "if (cpu_score > player_score):\n",
    "    print(\"The time of the AI has come, Computer crushed you!\")\n",
    "elif (player_score > cpu_score):\n",
    "    print(\"Here I come, Deep Blue! Player won!\")\n",
    "else:\n",
    "    print(\"You are both smart\")"
   ]
  }
 ],
 "metadata": {
  "kernelspec": {
   "display_name": "Python 3",
   "language": "python",
   "name": "python3"
  },
  "language_info": {
   "codemirror_mode": {
    "name": "ipython",
    "version": 3
   },
   "file_extension": ".py",
   "mimetype": "text/x-python",
   "name": "python",
   "nbconvert_exporter": "python",
   "pygments_lexer": "ipython3",
   "version": "3.8.3"
  }
 },
 "nbformat": 4,
 "nbformat_minor": 2
}
